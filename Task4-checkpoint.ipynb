{
 "cells": [
  {
   "cell_type": "markdown",
   "metadata": {},
   "source": [
    "# TASK 4 "
   ]
  },
  {
   "cell_type": "markdown",
   "metadata": {},
   "source": [
    "Task 1: Limit"
   ]
  },
  {
   "cell_type": "markdown",
   "metadata": {},
   "source": [
    "Pada tahap ini, kita import sympy agar fungsi-fungsi yang ada di sympy dapat digunakan.\n",
    "Kita juga menggunakan fungsi symbols untuk membuat x sebagai simbol."
   ]
  },
  {
   "cell_type": "code",
   "execution_count": 2,
   "metadata": {},
   "outputs": [],
   "source": [
    "import sympy as sym\n",
    "sym.init_printing()\n",
    "x = sym.symbols('x')"
   ]
  },
  {
   "cell_type": "markdown",
   "metadata": {},
   "source": [
    "Selanjutnya, kita menggunakan perintah print untuk menunjukkan bahwa yang dilakukan adalah menampilkan soal nomor 1 dan \n",
    "menggunakan sym.limit untuk mengimport fungsi limit setelah itu mengetikkan soal nomor 1 dan \n",
    "outputnya merupakan hasil dari soal tersebut."
   ]
  },
  {
   "cell_type": "code",
   "execution_count": 4,
   "metadata": {},
   "outputs": [
    {
     "name": "stdout",
     "output_type": "stream",
     "text": [
      "soal nomor 1\n"
     ]
    },
    {
     "data": {
      "image/png": "[encoded data removed]",
      "text/latex": [
       "$\\displaystyle \\frac{3}{8}$"
      ],
      "text/plain": [
       "3/8"
      ]
     },
     "execution_count": 4,
     "metadata": {},
     "output_type": "execute_result"
    }
   ],
   "source": [
    "print(\"soal nomor 1\")\n",
    "sym.limit((2*x**2+x-15)/(x**2+7*x+12),x,4)"
   ]
  },
  {
   "cell_type": "markdown",
   "metadata": {},
   "source": [
    "Pada tahap ini sama seperti sebelumnya namun yang dilakukan adalah menampilkan soal nomor 2 dan menggunakan sym.limit untuk mengimport fungsi limit yang menghasilkan output yaitu hasil dari operasi tersebut."
   ]
  },
  {
   "cell_type": "code",
   "execution_count": 5,
   "metadata": {},
   "outputs": [
    {
     "name": "stdout",
     "output_type": "stream",
     "text": [
      "soal nomor 2\n"
     ]
    },
    {
     "data": {
      "image/png": "[encoded data removed]",
      "text/latex": [
       "$\\displaystyle - \\frac{1}{6}$"
      ],
      "text/plain": [
       "-1/6"
      ]
     },
     "execution_count": 5,
     "metadata": {},
     "output_type": "execute_result"
    }
   ],
   "source": [
    "print(\"soal nomor 2\")\n",
    "sym.limit((x**2-5*x+6)/(x**2+2*x-8),x,2)"
   ]
  },
  {
   "cell_type": "markdown",
   "metadata": {},
   "source": [
    "Pada soal nomor 3 ini sama seperti sebelumnya yaitu menggunakan fungsi limit dan menghasilkan\n",
    "output yaitu hasil dari operasi soal tersebut"
   ]
  },
  {
   "cell_type": "code",
   "execution_count": 6,
   "metadata": {},
   "outputs": [
    {
     "name": "stdout",
     "output_type": "stream",
     "text": [
      "soal nomor 3\n"
     ]
    },
    {
     "data": {
      "image/png": "[encoded data removed]",
      "text/latex": [
       "$\\displaystyle \\frac{6}{5}$"
      ],
      "text/plain": [
       "6/5"
      ]
     },
     "execution_count": 6,
     "metadata": {},
     "output_type": "execute_result"
    }
   ],
   "source": [
    "print(\"soal nomor 3\")\n",
    "sym.limit((x**2-9)/(x**2-x-6),x,3)"
   ]
  },
  {
   "cell_type": "markdown",
   "metadata": {},
   "source": [
    "Pada bonus soal nomor 1 ini juga menggunakan sym.limit dengan \n",
    "output yang menghasilkan hasil operasi soal tersebut"
   ]
  },
  {
   "cell_type": "code",
   "execution_count": 8,
   "metadata": {},
   "outputs": [
    {
     "name": "stdout",
     "output_type": "stream",
     "text": [
      "bonus soal 1\n"
     ]
    },
    {
     "data": {
      "image/png": "[encoded data removed]",
      "text/latex": [
       "$\\displaystyle -1$"
      ],
      "text/plain": [
       "-1"
      ]
     },
     "execution_count": 8,
     "metadata": {},
     "output_type": "execute_result"
    }
   ],
   "source": [
    "print(\"bonus soal 1\")\n",
    "sym.limit((x**2-5*x+4)/(x**3-1),x,1)"
   ]
  },
  {
   "cell_type": "markdown",
   "metadata": {},
   "source": [
    "Pada bonus soal nomor 2 ini juga menggunakan sym.limit dengan output yang menghasilkan hasil operasi soal tersebut"
   ]
  },
  {
   "cell_type": "code",
   "execution_count": 10,
   "metadata": {},
   "outputs": [
    {
     "name": "stdout",
     "output_type": "stream",
     "text": [
      "bonus soal 2\n"
     ]
    },
    {
     "data": {
      "image/png": "[encoded data removed]",
      "text/latex": [
       "$\\displaystyle \\frac{1}{3}$"
      ],
      "text/plain": [
       "1/3"
      ]
     },
     "execution_count": 10,
     "metadata": {},
     "output_type": "execute_result"
    }
   ],
   "source": [
    "print(\"bonus soal 2\")\n",
    "sym.limit((x**2-4)/(x**3-8),x,2)"
   ]
  },
  {
   "cell_type": "markdown",
   "metadata": {},
   "source": [
    "Task 2: Turunan"
   ]
  },
  {
   "cell_type": "markdown",
   "metadata": {},
   "source": [
    " Pertama-tama kita mengimport sympy as sym agar dapat menggunakan fungsi yang ada pada sympy. Selanjutnya kita membuat simbol t dengan menggunakan fungsi symbol pada sympy. Kita juga menggunakan perintah print untuk memberi tanda bahwa hasil outputnya merupakan soal nomor 2 Kemudian kita membuat variabel y yang berisi soal dari nomor 2 lalu kita menggunakan fungsi Derivative untuk menampilkan soal nomor 2.\n"
   ]
  },
  {
   "cell_type": "code",
   "execution_count": 11,
   "metadata": {},
   "outputs": [
    {
     "name": "stdout",
     "output_type": "stream",
     "text": [
      "Soal Nomor 2\n"
     ]
    },
    {
     "data": {
      "image/png": "[encoded data removed]",
      "text/latex": [
       "$\\displaystyle \\frac{d}{d t} \\left(2 t^{4} - 10 t^{2} + 13 t\\right)$"
      ],
      "text/plain": [
       "d ⎛   4       2       ⎞\n",
       "──⎝2⋅t  - 10⋅t  + 13⋅t⎠\n",
       "dt                     "
      ]
     },
     "execution_count": 11,
     "metadata": {},
     "output_type": "execute_result"
    }
   ],
   "source": [
    "import sympy as sym\n",
    "sym.init_printing()\n",
    "t = sym.Symbol(\"t\")\n",
    "print(\"Soal Nomor 2\")\n",
    "y = 2*t**4-10*t**2+13*t\n",
    "sym.Derivative(y)"
   ]
  },
  {
   "cell_type": "markdown",
   "metadata": {},
   "source": [
    "Pada tahap ini kita menggunakan perintah print untuk memberi tanda bahwa hasil output merupakan penyelesaian dari nomor 2.\n",
    "Kemudian menggunakan fungsi Derivative serta menggunakan metode doit() untuk mengevaluasi turunan tersebut."
   ]
  },
  {
   "cell_type": "code",
   "execution_count": 14,
   "metadata": {},
   "outputs": [
    {
     "name": "stdout",
     "output_type": "stream",
     "text": [
      "Penyelesaian =\n"
     ]
    },
    {
     "data": {
      "image/png": "[encoded data removed]",
      "text/latex": [
       "$\\displaystyle 8 t^{3} - 20 t + 13$"
      ],
      "text/plain": [
       "   3            \n",
       "8⋅t  - 20⋅t + 13"
      ]
     },
     "execution_count": 14,
     "metadata": {},
     "output_type": "execute_result"
    }
   ],
   "source": [
    "print(\"Penyelesaian =\")\n",
    "sym.Derivative(y).doit()"
   ]
  },
  {
   "cell_type": "markdown",
   "metadata": {},
   "source": [
    "Pada tahap ini sama seperti sebelumnya namun kita membuat variabel baru yaitu f yang berisi soal nomor 7. Selanjutnya kita menggunakan fungsi Derivative untuk menampilkan soal nomor 7."
   ]
  },
  {
   "cell_type": "code",
   "execution_count": 15,
   "metadata": {},
   "outputs": [
    {
     "name": "stdout",
     "output_type": "stream",
     "text": [
      "Soal Nomor 7\n"
     ]
    },
    {
     "data": {
      "image/png": "[encoded data removed]",
      "text/latex": [
       "$\\displaystyle \\frac{d}{d t} \\left(\\frac{4}{t} - \\frac{1}{6 t^{3}} + \\frac{8}{t^{5}}\\right)$"
      ],
      "text/plain": [
       "d ⎛4    1     8 ⎞\n",
       "──⎜─ - ──── + ──⎟\n",
       "dt⎜t      3    5⎟\n",
       "  ⎝    6⋅t    t ⎠"
      ]
     },
     "execution_count": 15,
     "metadata": {},
     "output_type": "execute_result"
    }
   ],
   "source": [
    "print(\"Soal Nomor 7\")\n",
    "f = 4/t - 1/(6*t**3) + 8/t**5\n",
    "sym.Derivative(f)"
   ]
  },
  {
   "cell_type": "markdown",
   "metadata": {},
   "source": [
    "Pada tahap ini kita menggunakan perintah print untuk memberi tanda bahwa hasil output merupakan penyelesaian dari nomor 7. Kemudian menggunakan fungsi Derivative serta menggunakan metode doit() untuk mengevaluasi turunan tersebut."
   ]
  },
  {
   "cell_type": "code",
   "execution_count": 16,
   "metadata": {},
   "outputs": [
    {
     "name": "stdout",
     "output_type": "stream",
     "text": [
      "Penyelesaian = \n"
     ]
    },
    {
     "data": {
      "image/png": "[encoded data removed]",
      "text/latex": [
       "$\\displaystyle - \\frac{4}{t^{2}} + \\frac{1}{2 t^{4}} - \\frac{40}{t^{6}}$"
      ],
      "text/plain": [
       "  4     1     40\n",
       "- ── + ──── - ──\n",
       "   2      4    6\n",
       "  t    2⋅t    t "
      ]
     },
     "execution_count": 16,
     "metadata": {},
     "output_type": "execute_result"
    }
   ],
   "source": [
    "print(\"Penyelesaian = \")\n",
    "sym.Derivative(f).doit()"
   ]
  },
  {
   "cell_type": "markdown",
   "metadata": {},
   "source": [
    "Pada tahap ini kita masih menggunakan variabel f namun isinya merupakan soal nomor 12 serta kita membuat simbol y. Selanjutnya kita menggunakan fungsi Derivative untuk menampilkan soal nomor 12."
   ]
  },
  {
   "cell_type": "code",
   "execution_count": 23,
   "metadata": {},
   "outputs": [
    {
     "name": "stdout",
     "output_type": "stream",
     "text": [
      "Soal Nomor 12\n"
     ]
    },
    {
     "data": {
      "image/png": "[encoded data removed]",
      "text/latex": [
       "$\\displaystyle \\frac{d}{d y} \\frac{y^{5} - 5 y^{3} + 2 y}{y^{3}}$"
      ],
      "text/plain": [
       "  ⎛ 5      3      ⎞\n",
       "d ⎜y  - 5⋅y  + 2⋅y⎟\n",
       "──⎜───────────────⎟\n",
       "dy⎜        3      ⎟\n",
       "  ⎝       y       ⎠"
      ]
     },
     "execution_count": 23,
     "metadata": {},
     "output_type": "execute_result"
    }
   ],
   "source": [
    "print(\"Soal Nomor 12\")\n",
    "y = sym.Symbol(\"y\")\n",
    "f = (y**5 - 5*y**3 + 2*y)/(y**3)\n",
    "sym.Derivative(f)"
   ]
  },
  {
   "cell_type": "markdown",
   "metadata": {},
   "source": [
    "Pada tahap ini kita menggunakan perintah print untuk memberi tanda bahwa hasil output merupakan penyelesaian dari nomor 12. Kemudian menggunakan fungsi Derivative serta menggunakan metode doit() untuk mengevaluasi turunan tersebut."
   ]
  },
  {
   "cell_type": "code",
   "execution_count": 26,
   "metadata": {},
   "outputs": [
    {
     "name": "stdout",
     "output_type": "stream",
     "text": [
      "Penyelesaian =\n"
     ]
    },
    {
     "data": {
      "image/png": "[encoded data removed]",
      "text/latex": [
       "$\\displaystyle \\frac{5 y^{4} - 15 y^{2} + 2}{y^{3}} - \\frac{3 \\left(y^{5} - 5 y^{3} + 2 y\\right)}{y^{4}}$"
      ],
      "text/plain": [
       "   4       2         ⎛ 5      3      ⎞\n",
       "5⋅y  - 15⋅y  + 2   3⋅⎝y  - 5⋅y  + 2⋅y⎠\n",
       "──────────────── - ───────────────────\n",
       "        3                    4        \n",
       "       y                    y         "
      ]
     },
     "execution_count": 26,
     "metadata": {},
     "output_type": "execute_result"
    }
   ],
   "source": [
    "print(\"Penyelesaian =\")\n",
    "sym.Derivative(f).doit()"
   ]
  },
  {
   "cell_type": "markdown",
   "metadata": {},
   "source": [
    "Tahap dibawah kita menggunakan simbol t dan membuat variabel s. Kita juga menggunakan fungsi Derivatif untuk menampilkan soal nomor 17."
   ]
  },
  {
   "cell_type": "code",
   "execution_count": 27,
   "metadata": {},
   "outputs": [
    {
     "name": "stdout",
     "output_type": "stream",
     "text": [
      "Soal Nomor 17\n",
      "The position of an object at any time t is given by\n"
     ]
    },
    {
     "data": {
      "image/png": "[encoded data removed]",
      "text/latex": [
       "$\\displaystyle \\frac{d}{d t} \\left(3 t^{4} - 40 t^{3} + 126 t^{2} - 9\\right)$"
      ],
      "text/plain": [
       "d ⎛   4       3        2    ⎞\n",
       "──⎝3⋅t  - 40⋅t  + 126⋅t  - 9⎠\n",
       "dt                           "
      ]
     },
     "execution_count": 27,
     "metadata": {},
     "output_type": "execute_result"
    }
   ],
   "source": [
    "print(\"Soal Nomor 17\")\n",
    "t = sym.Symbol(\"t\")\n",
    "s = 3*t**4 - 40*t**3 + 126*t**2 - 9\n",
    "print(\"The position of an object at any time t is given by\")\n",
    "sym.Derivative(s)"
   ]
  },
  {
   "cell_type": "markdown",
   "metadata": {},
   "source": [
    "Untuk menyelesaikan soal dibawah ini kita harus memberikan output yang menghasilkan operasi dari turunan pada nomor 17 yaitu dengan membuat variabel baru yaitu s1 kemudian menggunakan fungsi Derivatif dan metode doit() untuk mengevaluasi."
   ]
  },
  {
   "cell_type": "code",
   "execution_count": 28,
   "metadata": {},
   "outputs": [
    {
     "name": "stdout",
     "output_type": "stream",
     "text": [
      "a) Determine the velocity of the object at any time t\n",
      "Penyelesaian =\n"
     ]
    },
    {
     "data": {
      "image/png": "[encoded data removed]",
      "text/latex": [
       "$\\displaystyle 12 t^{3} - 120 t^{2} + 252 t$"
      ],
      "text/plain": [
       "    3        2        \n",
       "12⋅t  - 120⋅t  + 252⋅t"
      ]
     },
     "execution_count": 28,
     "metadata": {},
     "output_type": "execute_result"
    }
   ],
   "source": [
    "print(\"a) Determine the velocity of the object at any time t\")\n",
    "print(\"Penyelesaian =\")\n",
    "s1 =sym.Derivative(s).doit()\n",
    "s1"
   ]
  },
  {
   "cell_type": "markdown",
   "metadata": {},
   "source": [
    "Untuk menyelesaikan soal bagian b dari nomor 17, kita menggunakan fungsi solve dari sympy yang berguna untuk menyelesaikan persamaan dari hasil turunan sebelumnya."
   ]
  },
  {
   "cell_type": "code",
   "execution_count": 29,
   "metadata": {},
   "outputs": [
    {
     "name": "stdout",
     "output_type": "stream",
     "text": [
      "b) Does the object ever stop changing?\n"
     ]
    },
    {
     "data": {
      "image/png": "[encoded data removed]",
      "text/latex": [
       "$\\displaystyle \\left[ \\left\\{ t : 0\\right\\}, \\  \\left\\{ t : 3\\right\\}, \\  \\left\\{ t : 7\\right\\}\\right]$"
      ],
      "text/plain": [
       "[{t: 0}, {t: 3}, {t: 7}]"
      ]
     },
     "execution_count": 29,
     "metadata": {},
     "output_type": "execute_result"
    }
   ],
   "source": [
    "print(\"b) Does the object ever stop changing?\")\n",
    "s2 = sym.solve([12*t**3 - 120*t**2 +252*t])\n",
    "s2"
   ]
  },
  {
   "cell_type": "markdown",
   "metadata": {},
   "source": [
    "Task 3: Integral"
   ]
  },
  {
   "cell_type": "markdown",
   "metadata": {},
   "source": [
    "Langkah pertama yang dilakukan adalah mengimport sympy untuk menggunakan fungsi yang ada.\n",
    "Kita juga membuat x sebagai simbol dengan menggunakan fungsi symbol pada sympy."
   ]
  },
  {
   "cell_type": "code",
   "execution_count": 31,
   "metadata": {},
   "outputs": [],
   "source": [
    "import sympy as sym\n",
    "x = sym.Symbol('x')"
   ]
  },
  {
   "cell_type": "markdown",
   "metadata": {},
   "source": [
    "Pada tahap ini kita menggunakan perintah print untuk menunjukkan bahwa ouput yang dihasilkan adalah soal nomor 7. Kemudian kita menggunakan fungsi Integral untuk menampilkan soal integral serta menggunakan fungsi sqrt yaitu square root atau akar pangkat dua."
   ]
  },
  {
   "cell_type": "code",
   "execution_count": 33,
   "metadata": {},
   "outputs": [
    {
     "name": "stdout",
     "output_type": "stream",
     "text": [
      "Soal Nomor 7\n"
     ]
    },
    {
     "data": {
      "image/png": "[encoded data removed]",
      "text/latex": [
       "$\\displaystyle \\int \\left(- 7 \\sqrt{x^{5}} + \\sqrt{x^{7}} + 17 \\sqrt{x^{10}}\\right)\\, dx$"
      ],
      "text/plain": [
       "⌠                                         \n",
       "⎮ ⎛       ____      ____         _____⎞   \n",
       "⎮ ⎜      ╱  5      ╱  7         ╱  10 ⎟   \n",
       "⎮ ⎝- 7⋅╲╱  x   + ╲╱  x   + 17⋅╲╱  x   ⎠ dx\n",
       "⌡                                         "
      ]
     },
     "execution_count": 33,
     "metadata": {},
     "output_type": "execute_result"
    }
   ],
   "source": [
    "print(\"Soal Nomor 7\")\n",
    "sym.Integral(sym.sqrt(x**7)-7*sym.sqrt(x**5)+17*sym.sqrt(x**10))"
   ]
  },
  {
   "cell_type": "markdown",
   "metadata": {},
   "source": [
    "Kita menggunakan perintah print untuk menandakan bahwa output yang dihasilkan adalah penyelesaian dari nomor 7. Kita juga menggunakan fungsi Integral dan metode doit() untuk mengevaluasi soal integral tersebut."
   ]
  },
  {
   "cell_type": "code",
   "execution_count": 35,
   "metadata": {},
   "outputs": [
    {
     "name": "stdout",
     "output_type": "stream",
     "text": [
      "Penyelesaian:\n"
     ]
    },
    {
     "data": {
      "image/png": "[encoded data removed]",
      "text/latex": [
       "$\\displaystyle \\frac{17 x^{6}}{6} - 2 x \\sqrt{x^{5}} + \\frac{2 x \\sqrt{x^{7}}}{9}$"
      ],
      "text/plain": [
       "                             ____\n",
       "    6          ____         ╱  7 \n",
       "17⋅x          ╱  5    2⋅x⋅╲╱  x  \n",
       "───── - 2⋅x⋅╲╱  x   + ───────────\n",
       "  6                        9     "
      ]
     },
     "execution_count": 35,
     "metadata": {},
     "output_type": "execute_result"
    }
   ],
   "source": [
    "print(\"Penyelesaian:\")\n",
    "sym.Integral(sym.sqrt(x**7)-7*sym.sqrt(x**5)+17*sym.sqrt(x**10)).doit()"
   ]
  },
  {
   "cell_type": "markdown",
   "metadata": {},
   "source": [
    "Pada langkah ini kita membuat symbol z. Kita menggunakan fungsi integral untuk menampilkan soal nomor 2."
   ]
  },
  {
   "cell_type": "code",
   "execution_count": 36,
   "metadata": {},
   "outputs": [
    {
     "name": "stdout",
     "output_type": "stream",
     "text": [
      "Soal Nomor 2\n"
     ]
    },
    {
     "data": {
      "image/png": "[encoded data removed]",
      "text/latex": [
       "$\\displaystyle \\int \\left(- 5 z^{16} - 48 z^{11} + z^{7}\\right)\\, dz$"
      ],
      "text/plain": [
       "⌠                           \n",
       "⎮ ⎛     16       11    7⎞   \n",
       "⎮ ⎝- 5⋅z   - 48⋅z   + z ⎠ dz\n",
       "⌡                           "
      ]
     },
     "execution_count": 36,
     "metadata": {},
     "output_type": "execute_result"
    }
   ],
   "source": [
    "print(\"Soal Nomor 2\")\n",
    "z = sym.Symbol('z')\n",
    "sym.Integral(z**7-48*z**11-5*z**16)"
   ]
  },
  {
   "cell_type": "markdown",
   "metadata": {},
   "source": [
    "Kita menggunakan perintah print untuk menandakan bahwa output yang dihasilkan adalah penyelesaian dari nomor 2.\n",
    "Kita juga menggunakan fungsi Integral dan metode doit() untuk mengevaluasi soal integral tersebut."
   ]
  },
  {
   "cell_type": "code",
   "execution_count": 38,
   "metadata": {},
   "outputs": [
    {
     "name": "stdout",
     "output_type": "stream",
     "text": [
      "Penyelesaian:\n"
     ]
    },
    {
     "data": {
      "image/png": "[encoded data removed]",
      "text/latex": [
       "$\\displaystyle - \\frac{5 z^{17}}{17} - 4 z^{12} + \\frac{z^{8}}{8}$"
      ],
      "text/plain": [
       "     17            8\n",
       "  5⋅z        12   z \n",
       "- ───── - 4⋅z   + ──\n",
       "    17            8 "
      ]
     },
     "execution_count": 38,
     "metadata": {},
     "output_type": "execute_result"
    }
   ],
   "source": [
    "print(\"Penyelesaian:\")\n",
    "sym.Integral(z**7-48*z**11-5*z**16).doit()"
   ]
  },
  {
   "cell_type": "markdown",
   "metadata": {},
   "source": [
    "Pada tahap ini kita masih menggunakan perintah print untuk menunjukkan bahwa outputnya menunjukkan soal nomor 12. Kita kemudian menggunakan fungsi Integral dan masih menggunakan simbol z seperti sebelumnya."
   ]
  },
  {
   "cell_type": "code",
   "execution_count": 39,
   "metadata": {},
   "outputs": [
    {
     "name": "stdout",
     "output_type": "stream",
     "text": [
      "Soal Nomor 12\n"
     ]
    },
    {
     "data": {
      "image/png": "[encoded data removed]",
      "text/latex": [
       "$\\displaystyle \\int \\frac{z^{8} - 6 z^{5} + 4 z^{3} - 2}{z^{4}}\\, dz$"
      ],
      "text/plain": [
       "⌠                        \n",
       "⎮  8      5      3       \n",
       "⎮ z  - 6⋅z  + 4⋅z  - 2   \n",
       "⎮ ──────────────────── dz\n",
       "⎮           4            \n",
       "⎮          z             \n",
       "⌡                        "
      ]
     },
     "execution_count": 39,
     "metadata": {},
     "output_type": "execute_result"
    }
   ],
   "source": [
    "print(\"Soal Nomor 12\")\n",
    "sym.Integral((z**8-6*z**5+4*z**3-2)/(z**4))"
   ]
  },
  {
   "cell_type": "markdown",
   "metadata": {},
   "source": [
    "Selanjutnya kita menggunakan perintah print untuk menandakan bahwa output yang dihasilkan adalah penyelesaian dari nomor 12. Kita juga menggunakan fungsi Integral dan metode doit() untuk mengevaluasi soal integral tersebut."
   ]
  },
  {
   "cell_type": "code",
   "execution_count": 40,
   "metadata": {},
   "outputs": [
    {
     "name": "stdout",
     "output_type": "stream",
     "text": [
      "Penyelesaian:\n"
     ]
    },
    {
     "data": {
      "image/png": "[encoded data removed]",
      "text/latex": [
       "$\\displaystyle \\frac{z^{5}}{5} - 3 z^{2} + 4 \\log{\\left(z \\right)} + \\frac{2}{3 z^{3}}$"
      ],
      "text/plain": [
       " 5                         \n",
       "z       2               2  \n",
       "── - 3⋅z  + 4⋅log(z) + ────\n",
       "5                         3\n",
       "                       3⋅z "
      ]
     },
     "execution_count": 40,
     "metadata": {},
     "output_type": "execute_result"
    }
   ],
   "source": [
    "print(\"Penyelesaian:\")\n",
    "sym.Integral((z**8-6*z**5+4*z**3-2)/(z**4)).doit()"
   ]
  },
  {
   "cell_type": "code",
   "execution_count": null,
   "metadata": {},
   "outputs": [],
   "source": []
  }
 ],
 "metadata": {
  "kernelspec": {
   "display_name": "Python 3",
   "language": "python",
   "name": "python3"
  },
  "language_info": {
   "codemirror_mode": {
    "name": "ipython",
    "version": 3
   },
   "file_extension": ".py",
   "mimetype": "text/x-python",
   "name": "python",
   "nbconvert_exporter": "python",
   "pygments_lexer": "ipython3",
   "version": "3.7.3"
  }
 },
 "nbformat": 4,
 "nbformat_minor": 2
}
